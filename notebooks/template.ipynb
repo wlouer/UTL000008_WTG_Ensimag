{
 "cells": [
  {
   "cell_type": "markdown",
   "id": "b3c7ebc5-1f45-466f-bd31-a8ae9f2ccb88",
   "metadata": {},
   "source": [
    "#  [INSERT TITLE]\n",
    "- Date:  \n",
    "- Author:  Bill Louer\n",
    "- Datasource:  "
   ]
  },
  {
   "cell_type": "markdown",
   "id": "001b75e1-09b4-44f6-9925-c66e46579bf2",
   "metadata": {},
   "source": [
    "<img src='https://upload.wikimedia.org/wikipedia/commons/thumb/9/96/Generic-person.svg/1024px-Generic-person.svg.png' alt=\"Generic Image\" width=\"400\" height=\"100\" >\n",
    "[GENERIC IMAGE]"
   ]
  },
  {
   "cell_type": "markdown",
   "id": "fa6789d2-f64b-4e75-8438-1f528dac2657",
   "metadata": {
    "jp-MarkdownHeadingCollapsed": true
   },
   "source": [
    "##  Table of Contents\n",
    "1.  [Project Overview](#section-1) \n",
    "2.  [Data Input](#section-2)\n",
    "3.  [Data Cleaning](#section-3)\n",
    "4.  [Exploratory Data Analysis](#section-4)\n",
    "5.  [Feature Engineering](#section-5)\n",
    "6.  [Modeling and Evaluation](#section-6)\n",
    "7.  [Findings and Conclusions](#section-7)"
   ]
  },
  {
   "cell_type": "markdown",
   "id": "e52682e4-89fd-461f-9398-be6511e14fb4",
   "metadata": {},
   "source": [
    "##  1. Project Overview <a class=\"anchor\" id=\"section-1\"></a>"
   ]
  },
  {
   "cell_type": "markdown",
   "id": "69682e1f-4cbd-43be-9c11-6b77128666d8",
   "metadata": {},
   "source": [
    "###  Objectives:  \n",
    "-  "
   ]
  },
  {
   "cell_type": "markdown",
   "id": "b5bdad4c-31f9-453d-827d-f8a27e99bd08",
   "metadata": {},
   "source": [
    "#### Dataset source:  https://www.kaggle.com/datasets/aagmandeep/combined-cycle-power-plant-dataset-and-prediction\n",
    "##### Data Contents:\n",
    "- The dataset comprises "
   ]
  },
  {
   "cell_type": "code",
   "execution_count": 1,
   "id": "e189ec37-3315-4efa-8948-24eb3632f71b",
   "metadata": {},
   "outputs": [],
   "source": [
    "#  import libaries\n"
   ]
  },
  {
   "cell_type": "code",
   "execution_count": 2,
   "id": "334e9bb9-7bf5-43a8-bc71-c372dc3fd70b",
   "metadata": {},
   "outputs": [],
   "source": [
    "# Set pandas display precision for floats\n",
    "# pd.set_option('display.precision', 3)  # Set to 2 decimal places"
   ]
  },
  {
   "cell_type": "markdown",
   "id": "fde69715-dcb4-487f-b93d-98746dc3ece8",
   "metadata": {},
   "source": [
    "## 2. Data Input <a class=\"anchor\" id=\"section-2\"></a>"
   ]
  },
  {
   "cell_type": "code",
   "execution_count": null,
   "id": "96e6a1c3-724f-47c3-ba47-ffd9310c4653",
   "metadata": {},
   "outputs": [],
   "source": []
  },
  {
   "cell_type": "code",
   "execution_count": null,
   "id": "f2acbf44-5f18-4184-a9ea-d3291331b57e",
   "metadata": {
    "scrolled": true
   },
   "outputs": [],
   "source": []
  },
  {
   "cell_type": "code",
   "execution_count": null,
   "id": "7cda4092-4ab2-441a-8cfb-4065df47c77c",
   "metadata": {},
   "outputs": [],
   "source": []
  },
  {
   "cell_type": "code",
   "execution_count": 3,
   "id": "b02fb622-6c98-4b9a-b526-ddc946b26fe8",
   "metadata": {},
   "outputs": [],
   "source": [
    "#  Set up miscellaneous function so I can print dataframe tables for the report or presentation.\n",
    "# This function requires work.  I need to format data columns with the appropriate number of significant digits before printing.\n",
    "def print_table(df, sheetname):\n",
    "    filepath = '../reports/results.xlsx'\n",
    "    if os.path.exists(filepath):\n",
    "        with pd.ExcelWriter(filepath, mode='a', engine='openpyxl', if_sheet_exists='new') as writer:\n",
    "            # Write DataFrame to a new sheet\n",
    "            df.to_excel(writer, sheet_name=sheetname, index=False,  float_format=\"%.3f\")\n",
    "    else:\n",
    "        with pd.ExcelWriter(filepath, mode='w', engine='openpyxl',) as writer:\n",
    "            # Write DataFrame to a new sheet\n",
    "            df.to_excel(writer, sheet_name=sheetname, index=False, float_format=\"%.3f\")\n"
   ]
  },
  {
   "cell_type": "markdown",
   "id": "ef9cc68f-d604-4cda-ad61-8b7d3765b403",
   "metadata": {},
   "source": [
    "## 3.  Data Cleaning <a class=\"anchor\" id=\"section-3\"></a>"
   ]
  },
  {
   "cell_type": "code",
   "execution_count": null,
   "id": "2aacca4d-86a6-449f-8f27-a31672047664",
   "metadata": {},
   "outputs": [],
   "source": []
  },
  {
   "cell_type": "code",
   "execution_count": null,
   "id": "0e4279bf-66d8-4900-aa49-fc9185128f5e",
   "metadata": {},
   "outputs": [],
   "source": []
  },
  {
   "cell_type": "code",
   "execution_count": 4,
   "id": "c8288264-aaee-4a77-82cf-9e9506507529",
   "metadata": {},
   "outputs": [],
   "source": [
    "#  check for NA values\n"
   ]
  },
  {
   "cell_type": "code",
   "execution_count": 5,
   "id": "8d582190-ee7a-4fe7-aa1c-e9a1ed6dbcb1",
   "metadata": {},
   "outputs": [],
   "source": [
    "# Produce and save boxplots to show the distribution of each variables data.  Show where they may be outliers.\n"
   ]
  },
  {
   "cell_type": "code",
   "execution_count": 6,
   "id": "2d8a4ad5-a12c-443f-91a9-a2252dcb9309",
   "metadata": {},
   "outputs": [],
   "source": [
    "# Produce and save boxplots to show the distribution of each variables data.  Show where they may be outliers.\n"
   ]
  },
  {
   "cell_type": "code",
   "execution_count": 7,
   "id": "f1e02bd8-f6d5-4af3-be6a-9cbd24b1e8e1",
   "metadata": {},
   "outputs": [],
   "source": [
    "#  Look at outliers using a boxplot\n"
   ]
  },
  {
   "cell_type": "code",
   "execution_count": 8,
   "id": "f64b4176-3ef6-4c8d-93e2-166943a82216",
   "metadata": {
    "scrolled": true
   },
   "outputs": [],
   "source": [
    "#  Create a histogram of each variable\n"
   ]
  },
  {
   "cell_type": "code",
   "execution_count": 9,
   "id": "8cecff52-8e17-49b0-8cc8-f5b3b142e1b0",
   "metadata": {},
   "outputs": [],
   "source": [
    "#  Identify outliers by z_scores\n"
   ]
  },
  {
   "cell_type": "markdown",
   "id": "0d82b057-d980-4d35-8f77-68a66a7694fa",
   "metadata": {},
   "source": [
    "## 4. Exploratory Data Analysis <a class=\"anchor\" id=\"section-4\"></a>"
   ]
  },
  {
   "cell_type": "code",
   "execution_count": null,
   "id": "6dca58d8-83fc-4439-83fc-be8c4baf26dc",
   "metadata": {
    "scrolled": true
   },
   "outputs": [],
   "source": []
  },
  {
   "cell_type": "markdown",
   "id": "3132addf-7044-483c-997b-197407f57a52",
   "metadata": {},
   "source": [
    "## 5. Feature Engineering <a class=\"anchor\" id=\"section-5\"></a>"
   ]
  },
  {
   "cell_type": "code",
   "execution_count": 10,
   "id": "fe66fe0c-5c3b-405d-aa7c-f99f5912ac99",
   "metadata": {},
   "outputs": [],
   "source": [
    "\n"
   ]
  },
  {
   "cell_type": "code",
   "execution_count": 11,
   "id": "d57e60c6-d817-4aa8-999e-d0eb00a30857",
   "metadata": {},
   "outputs": [],
   "source": [
    "\n"
   ]
  },
  {
   "cell_type": "code",
   "execution_count": null,
   "id": "e10139ce-993d-467b-a27d-7b92e6e39408",
   "metadata": {},
   "outputs": [],
   "source": []
  },
  {
   "cell_type": "markdown",
   "id": "84f86a39-4f35-430b-9e45-978bde7ea5e2",
   "metadata": {},
   "source": [
    "#####  Output is dependent most on dry bulb, wet bulb and steam turbine backpressure (cm_Hg).  \n",
    "#####  Lets check correlation and p_values for all features."
   ]
  },
  {
   "cell_type": "code",
   "execution_count": 12,
   "id": "623eb429-2c32-4776-8494-fb4e52f4414a",
   "metadata": {},
   "outputs": [],
   "source": [
    "# columns = list(df.columns)[:-1]\n",
    "# y_col = 'output_MW'\n",
    "# x_vars, y_vars, corr_coefs, p_vals = [], [], [], []\n",
    "# for col in columns:\n",
    "#     x_vars.append(col)\n",
    "#     y_vars.append('output_MW')\n",
    "#     coef, p_val = stats.pearsonr(df[col], df[y_col])\n",
    "#     corr_coefs.append(coef)\n",
    "#     p_vals.append(p_val)\n",
    "# df_corr_p_val = pd.DataFrame({'x_variable': x_vars, 'y_variable':y_vars, 'correlation_coef': corr_coefs, 'p_values': p_vals})\n",
    "# print_table(df_corr_p_val, 'correlation_p_vals')\n",
    "# df_corr_p_val"
   ]
  },
  {
   "cell_type": "code",
   "execution_count": 13,
   "id": "6194927e-f309-4864-83cf-892ea7320a11",
   "metadata": {},
   "outputs": [
    {
     "ename": "SyntaxError",
     "evalue": "invalid syntax (3119082695.py, line 1)",
     "output_type": "error",
     "traceback": [
      "\u001b[1;36m  Cell \u001b[1;32mIn[13], line 1\u001b[1;36m\u001b[0m\n\u001b[1;33m    Display heatmap of correlation between variables.\u001b[0m\n\u001b[1;37m            ^\u001b[0m\n\u001b[1;31mSyntaxError\u001b[0m\u001b[1;31m:\u001b[0m invalid syntax\n"
     ]
    }
   ],
   "source": [
    "Display heatmap of correlation between variables.\n",
    "# sns.heatmap(df.corr(), annot=True, cmap='coolwarm')\n",
    "# plt.title('Heat Map of Correlation Coefficients')\n",
    "# plt.savefig('../reports/figures/corr_heatmap.png', dpi=300, bbox_inches='tight')\n",
    "# plt.show()"
   ]
  },
  {
   "cell_type": "markdown",
   "id": "3c493244-3fb1-44dd-a079-49793d9e3f4e",
   "metadata": {},
   "source": [
    "#### Save the cleaned and featured data to a new csv file."
   ]
  },
  {
   "cell_type": "code",
   "execution_count": null,
   "id": "2487567d-dc04-4c1c-8a01-9aca5a438df0",
   "metadata": {},
   "outputs": [],
   "source": [
    "#  filepath = '../data/interim/interim_data.csv'\n",
    "# df.to_csv(filepath, index=False )"
   ]
  },
  {
   "cell_type": "markdown",
   "id": "6d314373-9e60-466a-82c1-d6a213c124f3",
   "metadata": {},
   "source": [
    "####  Scale the feature variables in the data using standard scalar."
   ]
  },
  {
   "cell_type": "code",
   "execution_count": null,
   "id": "b6b70573-2c3c-4bb3-bffa-77d11dffe846",
   "metadata": {},
   "outputs": [],
   "source": [
    "#  Create training and testing sets and then scale the feature variables.  This prevents data leakage (test data leaking into training the model.)\n"
   ]
  },
  {
   "cell_type": "markdown",
   "id": "4b449467-8064-4a1a-99aa-03b3ba914be1",
   "metadata": {},
   "source": [
    "## 6. Modeling and Evaluation <a class=\"anchor\" id=\"section-6\"></a>"
   ]
  },
  {
   "cell_type": "code",
   "execution_count": null,
   "id": "4ec6a1a2-b279-4a9e-9f62-10298fcadb64",
   "metadata": {},
   "outputs": [],
   "source": [
    "#  plot a kde plot of predicted MW and the actual MW\n",
    "def plot_test_prediction_distribution(y_test, y_predict, model_type, mse, mae, r2):\n",
    "    fig, axs = plt.subplots(1,2, figsize=(12,6))\n",
    "    sns.set(style=\"whitegrid\")\n",
    "    sns.kdeplot(ax=axs[0], x=y_test, color=\"r\", label=\"Actual Values\")\n",
    "    sns.kdeplot(ax=axs[0], x=y_predict, color=\"b\", label=\"Predicted Value\")\n",
    "    \n",
    "    axs[0].set_title(f'Distribution Plot ({model_type})\\nOut-of-Sample Predicted vs. Actual Test Data',  fontsize=10, color='black')\n",
    "    axs[0].annotate(f'Model Fit:\\nMSE:  {mse:.04f} \\nMAE: {mae:.01f}\\nR2:  {r2:.03f}', xy=(0.65, 0.85), xycoords='axes fraction',\n",
    "                       fontsize=10, color='black', ha='left', va='top')\n",
    "    axs[0].legend()\n",
    "    \n",
    "    axs[1].scatter(mw_predict, y_test, alpha = 0.4)\n",
    "    axs[1].set_title(f'Predicted vs. Actual\\n({model_type})')\n",
    "    axs[1].set_xlabel('Model Predicted MW Output')\n",
    "    axs[1].set_ylabel('Actual MW Output')\n",
    "    plt.savefig(f'../reports/figures/{model_type}_kde.png', dpi=300, bbox_inches='tight')\n",
    "    plt.show()"
   ]
  },
  {
   "cell_type": "code",
   "execution_count": null,
   "id": "7f43433f-21d2-42cc-b912-46f613fd9592",
   "metadata": {
    "scrolled": true
   },
   "outputs": [],
   "source": [
    "#  Show a distribution of the percent error of the prediction and the confidence interval on the kde plot.\n",
    "def plot_error_distribution(y_test, y_predict, model_type, lwr_pct=2.5, uppr_pct=97.5):\n",
    "    '''Plot the error distribution given the test data set and predicted data set'''\n",
    "    variance_pct = 100*(y_test - y_predict)/y_test\n",
    "    plt.figure(figsize=(10,5))\n",
    "    sns.kdeplot(x=variance_pct, fill=False, color=\"blue\", label=\"Variance Distribution\")\n",
    "    plt.title(f'Distribution of Percent Error\\nModel Type:  {model_type}')\n",
    "    plt.xlabel('Percent Error')\n",
    "    \n",
    "    # Compute the KDE values and x-axis values\n",
    "    kde = stats.gaussian_kde(variance_pct)\n",
    "    x_vals = np.linspace(min(variance_pct), max(variance_pct), 1000)\n",
    "    kde_vals = kde(x_vals)\n",
    "    \n",
    "    # Calculate the percentiles for the middle 90% (5th and 95th percentiles)\n",
    "    lower_bound = np.percentile(variance_pct, lwr_pct)\n",
    "    upper_bound = np.percentile(variance_pct, uppr_pct)\n",
    "    \n",
    "    # Plot the KDE\n",
    "    plt.plot(x_vals, kde_vals, color='blue')\n",
    "    \n",
    "    # Shade the middle 90%\n",
    "    plt.fill_between(x_vals, kde_vals, where=(x_vals >= lower_bound) & (x_vals <= upper_bound), \n",
    "                     color='blue', alpha=0.3)\n",
    "    \n",
    "    # Highlight the percentile values on the x-axis\n",
    "    plt.axvline(lower_bound, color='red', linestyle='--', label=f'2.5th percentile: {lower_bound:.01f}% Error')\n",
    "    plt.axvline(upper_bound, color='red', linestyle='--', label=f'97.5th percentile: {upper_bound:.01f}% Error')\n",
    "    \n",
    "    plt.legend()\n",
    "    plt.savefig(f'../reports/figures/{model_type}_error_dist.png', dpi=300, bbox_inches='tight')\n",
    "    plt.show()"
   ]
  },
  {
   "cell_type": "code",
   "execution_count": null,
   "id": "c3c8e0d2-975f-4d0e-9228-f40eff22161a",
   "metadata": {},
   "outputs": [],
   "source": []
  },
  {
   "cell_type": "code",
   "execution_count": null,
   "id": "d5a5d015-484d-49a2-879a-9f9a34fca5b4",
   "metadata": {},
   "outputs": [],
   "source": []
  },
  {
   "cell_type": "code",
   "execution_count": null,
   "id": "c896c03a-6fef-4db9-a20c-4d51cd343f60",
   "metadata": {},
   "outputs": [],
   "source": []
  },
  {
   "cell_type": "markdown",
   "id": "2d420c91-9ae1-45a5-b58e-fe0d3f674225",
   "metadata": {},
   "source": [
    "19\n"
   ]
  },
  {
   "cell_type": "code",
   "execution_count": null,
   "id": "54c71da7-bb14-4b2e-9ae9-c818fbf77c6c",
   "metadata": {},
   "outputs": [],
   "source": [
    "# #  Document the model results in a table and a bar chart to compare model performance.\n",
    "# model_types = ['Linear Regression', 'Gradiant Boosting Machine', 'Random Forest Regression']\n",
    "# r2_results =  [lr_r2, GBM_r2, RFR_r2]\n",
    "# mae_results = [lr_mae, GBM_mae, RFR_mae]\n",
    "# mse_results = [lr_mse, GBM_mse, RFR_mse]\n",
    "# df_results = pd.DataFrame({'Model Type': model_types, 'R Squared': r2_results, 'Mean Absolute Error': mae_results, 'Mean Squared Error': mse_results})\n",
    "# print_table(df_results, 'model_results')\n",
    "# df_results"
   ]
  },
  {
   "cell_type": "markdown",
   "id": "b86ef0c9-94f5-41b9-aeea-c2d9034edbfb",
   "metadata": {},
   "source": [
    "## 7. Findings and Conclusions <a class=\"anchor\" id=\"section-7\"></a>"
   ]
  },
  {
   "cell_type": "markdown",
   "id": "d287733a-d737-4cb0-9fdb-8877bb618af0",
   "metadata": {},
   "source": []
  },
  {
   "cell_type": "markdown",
   "id": "9afd92d7-e6a1-4700-bef9-898c2182e809",
   "metadata": {},
   "source": [
    "### Thoughts on Future Work and Next Steps:\n",
    "-  "
   ]
  },
  {
   "cell_type": "markdown",
   "id": "78e7038e-c2f0-45e4-88a3-3774a87aeeb4",
   "metadata": {},
   "source": [
    "###  Acknowledgements:\n",
    "-  This work relies on"
   ]
  },
  {
   "cell_type": "code",
   "execution_count": null,
   "id": "7a32a38d-8f60-46b3-a7d8-1409e15c5d9e",
   "metadata": {},
   "outputs": [],
   "source": []
  }
 ],
 "metadata": {
  "kernelspec": {
   "display_name": "Python 3 (ipykernel)",
   "language": "python",
   "name": "python3"
  },
  "language_info": {
   "codemirror_mode": {
    "name": "ipython",
    "version": 3
   },
   "file_extension": ".py",
   "mimetype": "text/x-python",
   "name": "python",
   "nbconvert_exporter": "python",
   "pygments_lexer": "ipython3",
   "version": "3.11.7"
  }
 },
 "nbformat": 4,
 "nbformat_minor": 5
}
